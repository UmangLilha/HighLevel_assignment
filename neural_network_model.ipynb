{
 "cells": [
  {
   "cell_type": "code",
   "execution_count": 147,
   "id": "6fac0650",
   "metadata": {},
   "outputs": [],
   "source": [
    "import tensorflow as tf\n",
    "\n",
    "from tensorflow.keras.layers import Input,Embedding,Flatten, Dense,Concatenate\n",
    "from tensorflow.keras.models import Model\n",
    "\n",
    "from sklearn.preprocessing import LabelEncoder, StandardScaler\n",
    "from sklearn.model_selection import train_test_split\n",
    "import numpy as np\n",
    "import pandas as pd\n",
    "import matplotlib.pyplot as plt\n",
    "from tensorflow.keras.callbacks import EarlyStopping\n",
    "import matplotlib.pyplot as plt\n"
   ]
  },
  {
   "cell_type": "code",
   "execution_count": 148,
   "id": "46a75a8d",
   "metadata": {},
   "outputs": [],
   "source": [
    "data = pd.read_parquet('data_preprocessed.parquet').drop(['main_author_encoded'], axis=1) #dropping main_author_encoded as it did not lead to any improvment in performance\n",
    "data = data[data.Impact != 0]\n",
    "X = data.drop('Impact', axis=1)\n",
    "y = data['Impact']"
   ]
  },
  {
   "cell_type": "code",
   "execution_count": 149,
   "id": "f8cd7631",
   "metadata": {},
   "outputs": [],
   "source": [
    "categorical_columns  = ['publisher_encoded','categories_encoded']\n",
    "numerical_columns = list(set(X.columns) - set(categorical_columns))"
   ]
  },
  {
   "cell_type": "code",
   "execution_count": 150,
   "id": "4544ae9a",
   "metadata": {},
   "outputs": [],
   "source": [
    "scaler = StandardScaler()\n",
    "X[numerical_columns] = scaler.fit_transform(X[numerical_columns])\n",
    "X_train, X_val, y_train, y_val = train_test_split(X, y, test_size=0.2, random_state=42)\n",
    "X_train_cat = X_train[categorical_columns].values\n",
    "X_train_num = X_train[numerical_columns].values\n",
    "X_val_cat = X_val[categorical_columns].values\n",
    "X_val_num = X_val[numerical_columns].values"
   ]
  },
  {
   "cell_type": "markdown",
   "id": "c3e72528",
   "metadata": {},
   "source": [
    "#### Model Architecture\n",
    "- using embedding layer for categorical data and flattening them\n",
    "-  concatening embedding data with numerical data\n",
    "- passing it to dense layer  of size 128,64,32,16\n",
    "- output layer of size 1\n",
    "- usnig MSE loss function\n",
    "\n",
    "\n"
   ]
  },
  {
   "cell_type": "code",
   "execution_count": 151,
   "id": "2acc4840",
   "metadata": {},
   "outputs": [],
   "source": [
    "\n",
    "def create_model(cat_dims, num_dims):\n",
    "    publisher_input = Input(shape=(1,), name='publisher_input')\n",
    "    categories_input = Input(shape=(1,), name='categories_input')\n",
    "    numeric_input = Input(shape=(num_dims,), name='numeric_input')\n",
    "    \n",
    "    publisher_embedding = Embedding(input_dim=cat_dims[0], output_dim=32, name='publisher_embedding')(publisher_input)\n",
    "    categories_embedding = Embedding(input_dim=cat_dims[1], output_dim=32, name='categories_embedding')(categories_input)\n",
    "\n",
    "    \n",
    "    publisher_flat = Flatten()(publisher_embedding)\n",
    "    categories_flat = Flatten()(categories_embedding)\n",
    "    \n",
    "    concatenated = Concatenate()([publisher_flat, categories_flat, numeric_input])\n",
    "    x = Dense(128, activation='relu')(concatenated)\n",
    "    x = Dense(64, activation='relu')(x)\n",
    "    x = Dense(32, activation='relu')(x)\n",
    "    x = Dense(16, activation='relu')(x)\n",
    "    output = Dense(1)(x)\n",
    "    \n",
    "    model = Model(inputs=[publisher_input, categories_input, numeric_input], outputs=output)\n",
    "    \n",
    "    return model"
   ]
  },
  {
   "cell_type": "code",
   "execution_count": 152,
   "id": "1a28a119",
   "metadata": {},
   "outputs": [],
   "source": [
    "cat_dims = [X['publisher_encoded'].nunique(), X['categories_encoded'].nunique()]\n",
    "num_dims = len(numerical_columns)"
   ]
  },
  {
   "cell_type": "code",
   "execution_count": 153,
   "id": "3c1e5112",
   "metadata": {},
   "outputs": [],
   "source": [
    "model = create_model(cat_dims, num_dims)"
   ]
  },
  {
   "cell_type": "code",
   "execution_count": 154,
   "id": "95aa0fb7",
   "metadata": {},
   "outputs": [],
   "source": [
    "model.compile(optimizer='adam', loss='mse')"
   ]
  },
  {
   "cell_type": "code",
   "execution_count": 155,
   "id": "94a015cb",
   "metadata": {},
   "outputs": [
    {
     "name": "stdout",
     "output_type": "stream",
     "text": [
      "Model: \"model_8\"\n",
      "__________________________________________________________________________________________________\n",
      " Layer (type)                   Output Shape         Param #     Connected to                     \n",
      "==================================================================================================\n",
      " publisher_input (InputLayer)   [(None, 1)]          0           []                               \n",
      "                                                                                                  \n",
      " categories_input (InputLayer)  [(None, 1)]          0           []                               \n",
      "                                                                                                  \n",
      " publisher_embedding (Embedding  (None, 1, 32)       406848      ['publisher_input[0][0]']        \n",
      " )                                                                                                \n",
      "                                                                                                  \n",
      " categories_embedding (Embeddin  (None, 1, 32)       3200        ['categories_input[0][0]']       \n",
      " g)                                                                                               \n",
      "                                                                                                  \n",
      " flatten_27 (Flatten)           (None, 32)           0           ['publisher_embedding[0][0]']    \n",
      "                                                                                                  \n",
      " flatten_28 (Flatten)           (None, 32)           0           ['categories_embedding[0][0]']   \n",
      "                                                                                                  \n",
      " numeric_input (InputLayer)     [(None, 69)]         0           []                               \n",
      "                                                                                                  \n",
      " concatenate_9 (Concatenate)    (None, 133)          0           ['flatten_27[0][0]',             \n",
      "                                                                  'flatten_28[0][0]',             \n",
      "                                                                  'numeric_input[0][0]']          \n",
      "                                                                                                  \n",
      " dense_34 (Dense)               (None, 128)          17152       ['concatenate_9[0][0]']          \n",
      "                                                                                                  \n",
      " dense_35 (Dense)               (None, 64)           8256        ['dense_34[0][0]']               \n",
      "                                                                                                  \n",
      " dense_36 (Dense)               (None, 32)           2080        ['dense_35[0][0]']               \n",
      "                                                                                                  \n",
      " dense_37 (Dense)               (None, 16)           528         ['dense_36[0][0]']               \n",
      "                                                                                                  \n",
      " dense_38 (Dense)               (None, 1)            17          ['dense_37[0][0]']               \n",
      "                                                                                                  \n",
      "==================================================================================================\n",
      "Total params: 438,081\n",
      "Trainable params: 438,081\n",
      "Non-trainable params: 0\n",
      "__________________________________________________________________________________________________\n"
     ]
    }
   ],
   "source": [
    "model.summary()"
   ]
  },
  {
   "cell_type": "code",
   "execution_count": 156,
   "id": "15e95dc4",
   "metadata": {},
   "outputs": [],
   "source": [
    "X_train_cat_list = [X_train_cat[:, i] for i in range(X_train_cat.shape[1])]\n",
    "X_val_cat_list = [X_val_cat[:, i] for i in range(X_val_cat.shape[1])]"
   ]
  },
  {
   "cell_type": "code",
   "execution_count": 157,
   "id": "7265ac03",
   "metadata": {},
   "outputs": [],
   "source": [
    "\n",
    "#using early stopping to prevent overfitting\n",
    "early_stopping = EarlyStopping(\n",
    "    monitor='val_loss',  \n",
    "    patience=10,         \n",
    "    mode='min',          \n",
    "    verbose=1,        \n",
    "    restore_best_weights=True  \n",
    ")\n"
   ]
  },
  {
   "cell_type": "code",
   "execution_count": 158,
   "id": "9ca8978b",
   "metadata": {
    "scrolled": true
   },
   "outputs": [
    {
     "name": "stdout",
     "output_type": "stream",
     "text": [
      "Epoch 1/100\n",
      "1735/1735 [==============================] - 7s 4ms/step - loss: 34429.4727 - val_loss: 4279.6172\n",
      "Epoch 2/100\n",
      "1735/1735 [==============================] - 6s 4ms/step - loss: 3832.1379 - val_loss: 3939.2104\n",
      "Epoch 3/100\n",
      "1735/1735 [==============================] - 6s 3ms/step - loss: 3733.1641 - val_loss: 3932.7578\n",
      "Epoch 4/100\n",
      "1735/1735 [==============================] - 6s 4ms/step - loss: 3675.7300 - val_loss: 4081.0537\n",
      "Epoch 5/100\n",
      "1735/1735 [==============================] - 6s 4ms/step - loss: 3644.7678 - val_loss: 4074.1045\n",
      "Epoch 6/100\n",
      "1735/1735 [==============================] - 6s 4ms/step - loss: 3602.3174 - val_loss: 3946.6421\n",
      "Epoch 7/100\n",
      "1735/1735 [==============================] - 6s 4ms/step - loss: 3591.1665 - val_loss: 4133.2803\n",
      "Epoch 8/100\n",
      "1735/1735 [==============================] - 6s 3ms/step - loss: 3578.9751 - val_loss: 3996.0586\n",
      "Epoch 9/100\n",
      "1735/1735 [==============================] - 6s 3ms/step - loss: 3551.9390 - val_loss: 3912.1724\n",
      "Epoch 10/100\n",
      "1735/1735 [==============================] - 6s 3ms/step - loss: 3547.7959 - val_loss: 4008.0527\n",
      "Epoch 11/100\n",
      "1735/1735 [==============================] - 6s 3ms/step - loss: 3523.9658 - val_loss: 3941.1633\n",
      "Epoch 12/100\n",
      "1735/1735 [==============================] - 6s 4ms/step - loss: 3520.7878 - val_loss: 4181.3169\n",
      "Epoch 13/100\n",
      "1735/1735 [==============================] - 6s 3ms/step - loss: 3500.3557 - val_loss: 3936.8262\n",
      "Epoch 14/100\n",
      "1735/1735 [==============================] - 6s 3ms/step - loss: 3492.9355 - val_loss: 4138.6313\n",
      "Epoch 15/100\n",
      "1735/1735 [==============================] - 6s 3ms/step - loss: 3470.0991 - val_loss: 4500.5229\n",
      "Epoch 16/100\n",
      "1735/1735 [==============================] - 6s 4ms/step - loss: 3457.2759 - val_loss: 3946.7009\n",
      "Epoch 17/100\n",
      "1735/1735 [==============================] - 6s 3ms/step - loss: 3436.2717 - val_loss: 4134.3735\n",
      "Epoch 18/100\n",
      "1735/1735 [==============================] - 6s 3ms/step - loss: 3416.8718 - val_loss: 4038.9390\n",
      "Epoch 19/100\n",
      "1735/1735 [==============================] - ETA: 0s - loss: 3398.2041Restoring model weights from the end of the best epoch: 9.\n",
      "1735/1735 [==============================] - 6s 4ms/step - loss: 3398.2041 - val_loss: 3944.8501\n",
      "Epoch 19: early stopping\n"
     ]
    }
   ],
   "source": [
    "history = model.fit(\n",
    "    X_train_cat_list + [X_train_num], y_train,\n",
    "    validation_data=(X_val_cat_list + [X_val_num], y_val),\n",
    "    epochs=100,\n",
    "    batch_size=64,\n",
    "    verbose=1,\n",
    "    callbacks=[early_stopping] \n",
    ")"
   ]
  },
  {
   "cell_type": "code",
   "execution_count": 160,
   "id": "2924ffca",
   "metadata": {},
   "outputs": [
    {
     "name": "stdout",
     "output_type": "stream",
     "text": [
      "868/868 [==============================] - 1s 824us/step - loss: 3912.1702\n",
      "Validation Loss (MSE): 3912.1702\n"
     ]
    }
   ],
   "source": [
    "val_loss = model.evaluate(X_val_cat_list + [X_val_num], y_val)\n",
    "print(f'Validation Loss (MSE): {val_loss:.4f}')"
   ]
  },
  {
   "cell_type": "code",
   "execution_count": 161,
   "id": "7dbf448d",
   "metadata": {},
   "outputs": [
    {
     "name": "stdout",
     "output_type": "stream",
     "text": [
      "868/868 [==============================] - 1s 647us/step\n"
     ]
    }
   ],
   "source": [
    "predictions = model.predict(X_val_cat_list + [X_val_num])"
   ]
  },
  {
   "cell_type": "code",
   "execution_count": 162,
   "id": "a0665c96",
   "metadata": {},
   "outputs": [
    {
     "name": "stdout",
     "output_type": "stream",
     "text": [
      "Mean Absolute Percentage Error (MAPE): 5.87%\n"
     ]
    }
   ],
   "source": [
    "mape = np.mean(np.abs((y_val - predictions.flatten()) / y_val)) * 100\n",
    "print(f'Mean Absolute Percentage Error (MAPE): {mape:.2f}%')"
   ]
  },
  {
   "cell_type": "code",
   "execution_count": null,
   "id": "9ab3af5a",
   "metadata": {},
   "outputs": [],
   "source": []
  }
 ],
 "metadata": {
  "kernelspec": {
   "display_name": "Python 3.8 - Pytorch and Tensorflow",
   "language": "python",
   "name": "python38-azureml-pt-tf"
  },
  "language_info": {
   "codemirror_mode": {
    "name": "ipython",
    "version": 3
   },
   "file_extension": ".py",
   "mimetype": "text/x-python",
   "name": "python",
   "nbconvert_exporter": "python",
   "pygments_lexer": "ipython3",
   "version": "3.8.5"
  }
 },
 "nbformat": 4,
 "nbformat_minor": 5
}
