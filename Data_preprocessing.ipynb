{
 "cells": [
  {
   "cell_type": "code",
   "execution_count": 1,
   "metadata": {},
   "outputs": [
    {
     "name": "stderr",
     "output_type": "stream",
     "text": [
      "[nltk_data] Downloading package stopwords to\n",
      "[nltk_data]     /Users/umanglilha/nltk_data...\n",
      "[nltk_data]   Package stopwords is already up-to-date!\n",
      "[nltk_data] Downloading package wordnet to\n",
      "[nltk_data]     /Users/umanglilha/nltk_data...\n",
      "[nltk_data]   Package wordnet is already up-to-date!\n"
     ]
    },
    {
     "data": {
      "text/plain": [
       "True"
      ]
     },
     "execution_count": 1,
     "metadata": {},
     "output_type": "execute_result"
    }
   ],
   "source": [
    "import pandas as pd\n",
    "import numpy as np\n",
    "import matplotlib.pyplot as plt\n",
    "import seaborn as sns\n",
    "import nltk\n",
    "import re\n",
    "from nltk.stem import WordNetLemmatizer\n",
    "from nltk.corpus import stopwords\n",
    "from gensim.models import Word2Vec\n",
    "from sklearn.preprocessing import LabelEncoder\n",
    "import pickle as pkl\n",
    "from catboost import CatBoostRegressor, Pool\n",
    "from sklearn.model_selection import train_test_split\n",
    "\n",
    "\n",
    "pd.set_option('display.max_colwidth', None)\n",
    "pd.set_option('display.max_rows', None)\n",
    "nltk.download('stopwords')\n",
    "nltk.download('wordnet')"
   ]
  },
  {
   "cell_type": "code",
   "execution_count": 2,
   "metadata": {},
   "outputs": [],
   "source": [
    "stop_words = set(stopwords.words(\"english\"))\n",
    "lemmatizer = WordNetLemmatizer()\n",
    "df = pd.read_csv('books_task.csv').drop(columns=['Unnamed: 0'])"
   ]
  },
  {
   "cell_type": "code",
   "execution_count": 3,
   "metadata": {},
   "outputs": [],
   "source": [
    "def handle_outliers(df, cols_to_clip):\n",
    "    \"\"\"Handle outliers using percentile-based clipping (Wisorization).\"\"\"\n",
    "    for col in cols_to_clip:\n",
    "        lower = df[col].quantile(0.01)\n",
    "        upper = df[col].quantile(0.99)\n",
    "        df[col] = df[col].clip(lower, upper)\n",
    "    return df\n",
    "\n",
    "def clean_text(text):\n",
    "    \"\"\"Clean text by removing punctuation, special characters, and stop words.\"\"\"\n",
    "    text = re.sub(r'[^\\w\\s]', '', text, re.UNICODE) # Remove punctuation and special characters\n",
    "    text = text.lower() # Convert text to lowercase\n",
    "    text = text.replace('\\t', ' ') # Replace tabs with a single space\n",
    "    text = re.sub(r'\\s+', ' ', text).strip() # Remove extra spaces\n",
    "    tokens = text.split() # Tokenize the text\n",
    "    tokens = [lemmatizer.lemmatize(token) for token in tokens]    # Lemmatize each word as noun (eg. cars)\n",
    "    tokens = [lemmatizer.lemmatize(token, \"v\") for token in tokens] # Lemmatize each word as a verb (eg. running -> run)\n",
    "    tokens = [word for word in tokens if word not in stop_words] # Remove stop words\n",
    "    text = \" \".join(tokens) # Join the cleaned words back into a single string\n",
    "    return text\n",
    "\n",
    "def round_values(df, n=2, cols=None):\n",
    "    \"\"\"Round off values in specified columns to n decimal places.\"\"\"\n",
    "    numerical_cols = df.select_dtypes(include=[np.number]).columns\n",
    "    for column in numerical_cols:\n",
    "        df[column] = df[column].round(n)\n",
    "    return df\n",
    "\n",
    "def get_w2v_embedding(text, w2v_model):\n",
    "    \"\"\"Get the average word2vec embedding for a given text.\"\"\"\n",
    "    words = text.split()\n",
    "    valid_words = [w2v_model.wv[word] for word in words if word in w2v_model.wv]\n",
    "    if not valid_words:  # Check if the list is empty\n",
    "        return np.zeros(w2v_model.vector_size)  # Return a zero vector if no valid words\n",
    "    embedding = np.mean(valid_words, axis=0)\n",
    "    return embedding\n",
    "\n",
    "def preprocess_text_feature(series):\n",
    "    \"\"\"Convert to lowercase and remove unnecessary whitespace.\"\"\"\n",
    "    return series.str.lower().str.strip().str.replace(r'\\s+', ' ', regex=True)\n",
    "\n",
    "def get_main_author(authors, impacts):\n",
    "    \"\"\"Get the main author for a given book.\"\"\"\n",
    "    if not authors or not impacts:\n",
    "        return None\n",
    "    max_impact_index = impacts.index(max(impacts))\n",
    "    return authors[max_impact_index]"
   ]
  },
  {
   "cell_type": "markdown",
   "metadata": {},
   "source": [
    "## Data Cleaning and feature engineering for Title and description\n",
    "- create a new column for the length of the title and description\n",
    "- get the word2vec embedding for the title and description combined.\n",
    "- create a new column for the word2vec embedding for the title and description combined.\n",
    "\n"
   ]
  },
  {
   "cell_type": "code",
   "execution_count": 4,
   "metadata": {},
   "outputs": [
    {
     "data": {
      "text/html": [
       "<div>\n",
       "<style scoped>\n",
       "    .dataframe tbody tr th:only-of-type {\n",
       "        vertical-align: middle;\n",
       "    }\n",
       "\n",
       "    .dataframe tbody tr th {\n",
       "        vertical-align: top;\n",
       "    }\n",
       "\n",
       "    .dataframe thead th {\n",
       "        text-align: right;\n",
       "    }\n",
       "</style>\n",
       "<table border=\"1\" class=\"dataframe\">\n",
       "  <thead>\n",
       "    <tr style=\"text-align: right;\">\n",
       "      <th></th>\n",
       "      <th>desc_length</th>\n",
       "      <th>title_length</th>\n",
       "    </tr>\n",
       "  </thead>\n",
       "  <tbody>\n",
       "    <tr>\n",
       "      <th>count</th>\n",
       "      <td>138724.000000</td>\n",
       "      <td>138724.000000</td>\n",
       "    </tr>\n",
       "    <tr>\n",
       "      <th>mean</th>\n",
       "      <td>610.227754</td>\n",
       "      <td>46.325942</td>\n",
       "    </tr>\n",
       "    <tr>\n",
       "      <th>std</th>\n",
       "      <td>570.052399</td>\n",
       "      <td>28.642529</td>\n",
       "    </tr>\n",
       "    <tr>\n",
       "      <th>min</th>\n",
       "      <td>0.000000</td>\n",
       "      <td>7.000000</td>\n",
       "    </tr>\n",
       "    <tr>\n",
       "      <th>25%</th>\n",
       "      <td>169.000000</td>\n",
       "      <td>23.000000</td>\n",
       "    </tr>\n",
       "    <tr>\n",
       "      <th>50%</th>\n",
       "      <td>410.000000</td>\n",
       "      <td>41.000000</td>\n",
       "    </tr>\n",
       "    <tr>\n",
       "      <th>75%</th>\n",
       "      <td>945.000000</td>\n",
       "      <td>63.000000</td>\n",
       "    </tr>\n",
       "    <tr>\n",
       "      <th>max</th>\n",
       "      <td>2543.000000</td>\n",
       "      <td>140.000000</td>\n",
       "    </tr>\n",
       "  </tbody>\n",
       "</table>\n",
       "</div>"
      ],
      "text/plain": [
       "         desc_length   title_length\n",
       "count  138724.000000  138724.000000\n",
       "mean      610.227754      46.325942\n",
       "std       570.052399      28.642529\n",
       "min         0.000000       7.000000\n",
       "25%       169.000000      23.000000\n",
       "50%       410.000000      41.000000\n",
       "75%       945.000000      63.000000\n",
       "max      2543.000000     140.000000"
      ]
     },
     "execution_count": 4,
     "metadata": {},
     "output_type": "execute_result"
    }
   ],
   "source": [
    "df[['description', 'Title']] = df[['description', 'Title']].fillna('')\n",
    "df['desc_length'] = df['description'].apply(len)\n",
    "df['title_length'] = df['Title'].apply(len)\n",
    "df = handle_outliers(df, ['desc_length', 'title_length']) # handle outliers(winsorization)\n",
    "df = round_values(df, n=0, cols=['desc_length', 'title_length']) # round off the values to the nearest integer\n",
    "df[['desc_length','title_length']].describe()"
   ]
  },
  {
   "cell_type": "code",
   "execution_count": 5,
   "metadata": {},
   "outputs": [
    {
     "data": {
      "text/html": [
       "<div>\n",
       "<style scoped>\n",
       "    .dataframe tbody tr th:only-of-type {\n",
       "        vertical-align: middle;\n",
       "    }\n",
       "\n",
       "    .dataframe tbody tr th {\n",
       "        vertical-align: top;\n",
       "    }\n",
       "\n",
       "    .dataframe thead th {\n",
       "        text-align: right;\n",
       "    }\n",
       "</style>\n",
       "<table border=\"1\" class=\"dataframe\">\n",
       "  <thead>\n",
       "    <tr style=\"text-align: right;\">\n",
       "      <th></th>\n",
       "      <th>Title</th>\n",
       "      <th>title_clean</th>\n",
       "      <th>description</th>\n",
       "      <th>desc_clean</th>\n",
       "    </tr>\n",
       "  </thead>\n",
       "  <tbody>\n",
       "    <tr>\n",
       "      <th>0</th>\n",
       "      <td>Its Only Art If Its Well Hung!</td>\n",
       "      <td>art well hang</td>\n",
       "      <td></td>\n",
       "      <td></td>\n",
       "    </tr>\n",
       "    <tr>\n",
       "      <th>1</th>\n",
       "      <td>Dr. Seuss: American Icon</td>\n",
       "      <td>dr seuss american icon</td>\n",
       "      <td>Philip Nel takes a fascinating look into the key aspects of Seuss's career - his poetry, politics, art, marketing, and place in the popular imagination.\" \"Nel argues convincingly that Dr. Seuss is one of the most influential poets in America. His nonsense verse, like that of Lewis Carroll and Edward Lear, has changed language itself, giving us new words like \"nerd.\" And Seuss's famously loopy artistic style - what Nel terms an \"energetic cartoon surrealism\" - has been equally important, inspiring artists like filmmaker Tim Burton and illustrator Lane Smith. --from back cover</td>\n",
       "      <td>philip nel take fascinate look key aspect seusss career poetry politics art market place popular imagination nel argue convincingly dr seuss one influential poet america nonsense verse like lewis carroll edward lear ha change language give u new word like nerd seusss famously loopy artistic style nel term energetic cartoon surrealism ha equally important inspire artist like filmmaker tim burton illustrator lane smith back cover</td>\n",
       "    </tr>\n",
       "  </tbody>\n",
       "</table>\n",
       "</div>"
      ],
      "text/plain": [
       "                            Title             title_clean  \\\n",
       "0  Its Only Art If Its Well Hung!           art well hang   \n",
       "1        Dr. Seuss: American Icon  dr seuss american icon   \n",
       "\n",
       "                                                                                                                                                                                                                                                                                                                                                                                                                                                                                                                                                                                             description  \\\n",
       "0                                                                                                                                                                                                                                                                                                                                                                                                                                                                                                                                                                                                          \n",
       "1  Philip Nel takes a fascinating look into the key aspects of Seuss's career - his poetry, politics, art, marketing, and place in the popular imagination.\" \"Nel argues convincingly that Dr. Seuss is one of the most influential poets in America. His nonsense verse, like that of Lewis Carroll and Edward Lear, has changed language itself, giving us new words like \"nerd.\" And Seuss's famously loopy artistic style - what Nel terms an \"energetic cartoon surrealism\" - has been equally important, inspiring artists like filmmaker Tim Burton and illustrator Lane Smith. --from back cover   \n",
       "\n",
       "                                                                                                                                                                                                                                                                                                                                                                                                                                        desc_clean  \n",
       "0                                                                                                                                                                                                                                                                                                                                                                                                                                                   \n",
       "1  philip nel take fascinate look key aspect seusss career poetry politics art market place popular imagination nel argue convincingly dr seuss one influential poet america nonsense verse like lewis carroll edward lear ha change language give u new word like nerd seusss famously loopy artistic style nel term energetic cartoon surrealism ha equally important inspire artist like filmmaker tim burton illustrator lane smith back cover  "
      ]
     },
     "execution_count": 5,
     "metadata": {},
     "output_type": "execute_result"
    }
   ],
   "source": [
    "# clean the title and description\n",
    "df['desc_clean'] = df['description'].apply(clean_text)\n",
    "df['title_clean'] = df['Title'].apply(clean_text)\n",
    "df[['Title','title_clean', 'description', 'desc_clean']].head(2)"
   ]
  },
  {
   "cell_type": "code",
   "execution_count": 6,
   "metadata": {},
   "outputs": [],
   "source": [
    "# get the word2vec embedding for the title and description combined.\n",
    "titles = df['title_clean'].apply(lambda x: x.split()).tolist()\n",
    "descriptions = df['desc_clean'].apply(lambda x: x.split()).tolist()\n",
    "\n",
    "w2v_model = Word2Vec(sentences=titles + descriptions, vector_size=64, window=3, min_count=1)"
   ]
  },
  {
   "cell_type": "code",
   "execution_count": 7,
   "metadata": {},
   "outputs": [
    {
     "data": {
      "text/html": [
       "<div>\n",
       "<style scoped>\n",
       "    .dataframe tbody tr th:only-of-type {\n",
       "        vertical-align: middle;\n",
       "    }\n",
       "\n",
       "    .dataframe tbody tr th {\n",
       "        vertical-align: top;\n",
       "    }\n",
       "\n",
       "    .dataframe thead th {\n",
       "        text-align: right;\n",
       "    }\n",
       "</style>\n",
       "<table border=\"1\" class=\"dataframe\">\n",
       "  <thead>\n",
       "    <tr style=\"text-align: right;\">\n",
       "      <th></th>\n",
       "      <th>Title</th>\n",
       "      <th>description</th>\n",
       "      <th>authors</th>\n",
       "      <th>publisher</th>\n",
       "      <th>publishedDate</th>\n",
       "      <th>categories</th>\n",
       "      <th>Impact</th>\n",
       "      <th>desc_length</th>\n",
       "      <th>title_length</th>\n",
       "      <th>desc_clean</th>\n",
       "      <th>title_clean</th>\n",
       "      <th>total_content</th>\n",
       "      <th>total_content_embedding</th>\n",
       "    </tr>\n",
       "  </thead>\n",
       "  <tbody>\n",
       "    <tr>\n",
       "      <th>0</th>\n",
       "      <td>Its Only Art If Its Well Hung!</td>\n",
       "      <td></td>\n",
       "      <td>['Julie Strain']</td>\n",
       "      <td>Smithsonian Institution</td>\n",
       "      <td>1996</td>\n",
       "      <td>['Comics &amp; Graphic Novels']</td>\n",
       "      <td>784.0</td>\n",
       "      <td>0.0</td>\n",
       "      <td>30.0</td>\n",
       "      <td></td>\n",
       "      <td>art well hang</td>\n",
       "      <td>art well hang</td>\n",
       "      <td>[0.3602914, -0.37663412, -0.07518103, 0.64661163, 1.0900937, 0.45581695, 0.06411297, -0.36543798, 0.69487715, -1.7973256, -0.16072482, -1.046844, -0.2273987, -1.2980193, 1.0848356, 0.65863466, -1.6370748, 0.004662186, -0.41411015, 0.7404173, 0.94755346, 0.3996736, -0.5216977, -0.9706394, 0.192707, 1.021639, -0.32071754, -0.42693934, 0.45217517, -0.34516796, -0.2803025, -0.9967842, -0.31885004, 0.6027295, -0.06924975, 1.3234037, -0.9220621, 0.50611705, -0.19484557, -1.4114023, -0.44980773, 1.162509, 2.0852664, -0.07284384, 1.6318508, -1.0024204, -0.2369569, -0.19116175, 0.3385757, -1.3092861, 0.3196034, 1.3729199, -0.5546537, 1.2323393, 1.2268571, -0.60218376, 0.21780272, -0.22154367, 0.08808911, -0.09143319, -0.6166702, -1.3723961, 1.3003861, -1.5573479]</td>\n",
       "    </tr>\n",
       "    <tr>\n",
       "      <th>1</th>\n",
       "      <td>Dr. Seuss: American Icon</td>\n",
       "      <td>Philip Nel takes a fascinating look into the key aspects of Seuss's career - his poetry, politics, art, marketing, and place in the popular imagination.\" \"Nel argues convincingly that Dr. Seuss is one of the most influential poets in America. His nonsense verse, like that of Lewis Carroll and Edward Lear, has changed language itself, giving us new words like \"nerd.\" And Seuss's famously loopy artistic style - what Nel terms an \"energetic cartoon surrealism\" - has been equally important, inspiring artists like filmmaker Tim Burton and illustrator Lane Smith. --from back cover</td>\n",
       "      <td>['Philip Nel']</td>\n",
       "      <td>A&amp;C Black</td>\n",
       "      <td>2005-01-01</td>\n",
       "      <td>['Biography &amp; Autobiography']</td>\n",
       "      <td>825.0</td>\n",
       "      <td>581.0</td>\n",
       "      <td>24.0</td>\n",
       "      <td>philip nel take fascinate look key aspect seusss career poetry politics art market place popular imagination nel argue convincingly dr seuss one influential poet america nonsense verse like lewis carroll edward lear ha change language give u new word like nerd seusss famously loopy artistic style nel term energetic cartoon surrealism ha equally important inspire artist like filmmaker tim burton illustrator lane smith back cover</td>\n",
       "      <td>dr seuss american icon</td>\n",
       "      <td>dr seuss american icon philip nel take fascinate look key aspect seusss career poetry politics art market place popular imagination nel argue convincingly dr seuss one influential poet america nonsense verse like lewis carroll edward lear ha change language give u new word like nerd seusss famously loopy artistic style nel term energetic cartoon surrealism ha equally important inspire artist like filmmaker tim burton illustrator lane smith back cover</td>\n",
       "      <td>[0.13579325, 0.23363085, -0.21728171, 0.7801119, -0.10057225, -0.5421874, -0.28576043, -0.6212122, 0.3481764, -0.96421504, 0.40481052, -0.06458729, 0.026966501, -0.7199487, -0.059248853, 0.18487445, -1.4320366, 0.32778051, 0.11125994, 0.5679041, 0.74181175, 0.83180475, 0.016071117, -0.37313527, -0.3825025, 0.39797607, -0.15008642, -0.3294378, 0.39209634, 0.37033668, -0.012306405, 0.02927501, -0.16889645, 0.34682417, 0.25086802, 1.1220881, -0.27304828, 0.75855094, 0.4232059, -0.4603314, -0.896937, 0.8322991, 1.1187983, -0.2673058, 0.6665789, -0.1363502, -0.2332637, -0.57517254, 0.3211157, -0.08065799, -0.13350542, 1.2156197, -0.2459055, 0.4178285, 1.1802008, 0.21203351, 0.7502821, 0.46977636, 0.30625987, 0.35215977, 0.012763397, -1.3628908, 0.3297594, -1.0696937]</td>\n",
       "    </tr>\n",
       "  </tbody>\n",
       "</table>\n",
       "</div>"
      ],
      "text/plain": [
       "                            Title  \\\n",
       "0  Its Only Art If Its Well Hung!   \n",
       "1        Dr. Seuss: American Icon   \n",
       "\n",
       "                                                                                                                                                                                                                                                                                                                                                                                                                                                                                                                                                                                             description  \\\n",
       "0                                                                                                                                                                                                                                                                                                                                                                                                                                                                                                                                                                                                          \n",
       "1  Philip Nel takes a fascinating look into the key aspects of Seuss's career - his poetry, politics, art, marketing, and place in the popular imagination.\" \"Nel argues convincingly that Dr. Seuss is one of the most influential poets in America. His nonsense verse, like that of Lewis Carroll and Edward Lear, has changed language itself, giving us new words like \"nerd.\" And Seuss's famously loopy artistic style - what Nel terms an \"energetic cartoon surrealism\" - has been equally important, inspiring artists like filmmaker Tim Burton and illustrator Lane Smith. --from back cover   \n",
       "\n",
       "            authors                publisher publishedDate  \\\n",
       "0  ['Julie Strain']  Smithsonian Institution          1996   \n",
       "1    ['Philip Nel']                A&C Black    2005-01-01   \n",
       "\n",
       "                      categories  Impact  desc_length  title_length  \\\n",
       "0    ['Comics & Graphic Novels']   784.0          0.0          30.0   \n",
       "1  ['Biography & Autobiography']   825.0        581.0          24.0   \n",
       "\n",
       "                                                                                                                                                                                                                                                                                                                                                                                                                                        desc_clean  \\\n",
       "0                                                                                                                                                                                                                                                                                                                                                                                                                                                    \n",
       "1  philip nel take fascinate look key aspect seusss career poetry politics art market place popular imagination nel argue convincingly dr seuss one influential poet america nonsense verse like lewis carroll edward lear ha change language give u new word like nerd seusss famously loopy artistic style nel term energetic cartoon surrealism ha equally important inspire artist like filmmaker tim burton illustrator lane smith back cover   \n",
       "\n",
       "              title_clean  \\\n",
       "0           art well hang   \n",
       "1  dr seuss american icon   \n",
       "\n",
       "                                                                                                                                                                                                                                                                                                                                                                                                                                                            total_content  \\\n",
       "0                                                                                                                                                                                                                                                                                                                                                                                                                                                          art well hang    \n",
       "1  dr seuss american icon philip nel take fascinate look key aspect seusss career poetry politics art market place popular imagination nel argue convincingly dr seuss one influential poet america nonsense verse like lewis carroll edward lear ha change language give u new word like nerd seusss famously loopy artistic style nel term energetic cartoon surrealism ha equally important inspire artist like filmmaker tim burton illustrator lane smith back cover   \n",
       "\n",
       "                                                                                                                                                                                                                                                                                                                                                                                                                                                                                                                                                                                                                                                                                                                                                                                total_content_embedding  \n",
       "0          [0.3602914, -0.37663412, -0.07518103, 0.64661163, 1.0900937, 0.45581695, 0.06411297, -0.36543798, 0.69487715, -1.7973256, -0.16072482, -1.046844, -0.2273987, -1.2980193, 1.0848356, 0.65863466, -1.6370748, 0.004662186, -0.41411015, 0.7404173, 0.94755346, 0.3996736, -0.5216977, -0.9706394, 0.192707, 1.021639, -0.32071754, -0.42693934, 0.45217517, -0.34516796, -0.2803025, -0.9967842, -0.31885004, 0.6027295, -0.06924975, 1.3234037, -0.9220621, 0.50611705, -0.19484557, -1.4114023, -0.44980773, 1.162509, 2.0852664, -0.07284384, 1.6318508, -1.0024204, -0.2369569, -0.19116175, 0.3385757, -1.3092861, 0.3196034, 1.3729199, -0.5546537, 1.2323393, 1.2268571, -0.60218376, 0.21780272, -0.22154367, 0.08808911, -0.09143319, -0.6166702, -1.3723961, 1.3003861, -1.5573479]  \n",
       "1  [0.13579325, 0.23363085, -0.21728171, 0.7801119, -0.10057225, -0.5421874, -0.28576043, -0.6212122, 0.3481764, -0.96421504, 0.40481052, -0.06458729, 0.026966501, -0.7199487, -0.059248853, 0.18487445, -1.4320366, 0.32778051, 0.11125994, 0.5679041, 0.74181175, 0.83180475, 0.016071117, -0.37313527, -0.3825025, 0.39797607, -0.15008642, -0.3294378, 0.39209634, 0.37033668, -0.012306405, 0.02927501, -0.16889645, 0.34682417, 0.25086802, 1.1220881, -0.27304828, 0.75855094, 0.4232059, -0.4603314, -0.896937, 0.8322991, 1.1187983, -0.2673058, 0.6665789, -0.1363502, -0.2332637, -0.57517254, 0.3211157, -0.08065799, -0.13350542, 1.2156197, -0.2459055, 0.4178285, 1.1802008, 0.21203351, 0.7502821, 0.46977636, 0.30625987, 0.35215977, 0.012763397, -1.3628908, 0.3297594, -1.0696937]  "
      ]
     },
     "execution_count": 7,
     "metadata": {},
     "output_type": "execute_result"
    }
   ],
   "source": [
    "# create a new column for the word2vec embedding for the title and description combined.\n",
    "df['total_content'] = df['title_clean'] + \" \" + df['desc_clean']\n",
    "df['total_content_embedding'] = df['total_content'].apply(lambda x: get_w2v_embedding(x, w2v_model))\n",
    "df.head(2)"
   ]
  },
  {
   "cell_type": "code",
   "execution_count": 8,
   "metadata": {},
   "outputs": [
    {
     "data": {
      "text/html": [
       "<div>\n",
       "<style scoped>\n",
       "    .dataframe tbody tr th:only-of-type {\n",
       "        vertical-align: middle;\n",
       "    }\n",
       "\n",
       "    .dataframe tbody tr th {\n",
       "        vertical-align: top;\n",
       "    }\n",
       "\n",
       "    .dataframe thead th {\n",
       "        text-align: right;\n",
       "    }\n",
       "</style>\n",
       "<table border=\"1\" class=\"dataframe\">\n",
       "  <thead>\n",
       "    <tr style=\"text-align: right;\">\n",
       "      <th></th>\n",
       "      <th>Title</th>\n",
       "      <th>description</th>\n",
       "      <th>authors</th>\n",
       "      <th>publisher</th>\n",
       "      <th>publishedDate</th>\n",
       "      <th>categories</th>\n",
       "      <th>Impact</th>\n",
       "      <th>desc_length</th>\n",
       "      <th>title_length</th>\n",
       "      <th>desc_clean</th>\n",
       "      <th>...</th>\n",
       "      <th>embed_54</th>\n",
       "      <th>embed_55</th>\n",
       "      <th>embed_56</th>\n",
       "      <th>embed_57</th>\n",
       "      <th>embed_58</th>\n",
       "      <th>embed_59</th>\n",
       "      <th>embed_60</th>\n",
       "      <th>embed_61</th>\n",
       "      <th>embed_62</th>\n",
       "      <th>embed_63</th>\n",
       "    </tr>\n",
       "  </thead>\n",
       "  <tbody>\n",
       "    <tr>\n",
       "      <th>0</th>\n",
       "      <td>Its Only Art If Its Well Hung!</td>\n",
       "      <td></td>\n",
       "      <td>['Julie Strain']</td>\n",
       "      <td>Smithsonian Institution</td>\n",
       "      <td>1996</td>\n",
       "      <td>['Comics &amp; Graphic Novels']</td>\n",
       "      <td>784.0</td>\n",
       "      <td>0.0</td>\n",
       "      <td>30.0</td>\n",
       "      <td></td>\n",
       "      <td>...</td>\n",
       "      <td>1.226857</td>\n",
       "      <td>-0.602184</td>\n",
       "      <td>0.217803</td>\n",
       "      <td>-0.221544</td>\n",
       "      <td>0.088089</td>\n",
       "      <td>-0.091433</td>\n",
       "      <td>-0.616670</td>\n",
       "      <td>-1.372396</td>\n",
       "      <td>1.300386</td>\n",
       "      <td>-1.557348</td>\n",
       "    </tr>\n",
       "    <tr>\n",
       "      <th>1</th>\n",
       "      <td>Dr. Seuss: American Icon</td>\n",
       "      <td>Philip Nel takes a fascinating look into the key aspects of Seuss's career - his poetry, politics, art, marketing, and place in the popular imagination.\" \"Nel argues convincingly that Dr. Seuss is one of the most influential poets in America. His nonsense verse, like that of Lewis Carroll and Edward Lear, has changed language itself, giving us new words like \"nerd.\" And Seuss's famously loopy artistic style - what Nel terms an \"energetic cartoon surrealism\" - has been equally important, inspiring artists like filmmaker Tim Burton and illustrator Lane Smith. --from back cover</td>\n",
       "      <td>['Philip Nel']</td>\n",
       "      <td>A&amp;C Black</td>\n",
       "      <td>2005-01-01</td>\n",
       "      <td>['Biography &amp; Autobiography']</td>\n",
       "      <td>825.0</td>\n",
       "      <td>581.0</td>\n",
       "      <td>24.0</td>\n",
       "      <td>philip nel take fascinate look key aspect seusss career poetry politics art market place popular imagination nel argue convincingly dr seuss one influential poet america nonsense verse like lewis carroll edward lear ha change language give u new word like nerd seusss famously loopy artistic style nel term energetic cartoon surrealism ha equally important inspire artist like filmmaker tim burton illustrator lane smith back cover</td>\n",
       "      <td>...</td>\n",
       "      <td>1.180201</td>\n",
       "      <td>0.212034</td>\n",
       "      <td>0.750282</td>\n",
       "      <td>0.469776</td>\n",
       "      <td>0.306260</td>\n",
       "      <td>0.352160</td>\n",
       "      <td>0.012763</td>\n",
       "      <td>-1.362891</td>\n",
       "      <td>0.329759</td>\n",
       "      <td>-1.069694</td>\n",
       "    </tr>\n",
       "  </tbody>\n",
       "</table>\n",
       "<p>2 rows × 77 columns</p>\n",
       "</div>"
      ],
      "text/plain": [
       "                            Title  \\\n",
       "0  Its Only Art If Its Well Hung!   \n",
       "1        Dr. Seuss: American Icon   \n",
       "\n",
       "                                                                                                                                                                                                                                                                                                                                                                                                                                                                                                                                                                                             description  \\\n",
       "0                                                                                                                                                                                                                                                                                                                                                                                                                                                                                                                                                                                                          \n",
       "1  Philip Nel takes a fascinating look into the key aspects of Seuss's career - his poetry, politics, art, marketing, and place in the popular imagination.\" \"Nel argues convincingly that Dr. Seuss is one of the most influential poets in America. His nonsense verse, like that of Lewis Carroll and Edward Lear, has changed language itself, giving us new words like \"nerd.\" And Seuss's famously loopy artistic style - what Nel terms an \"energetic cartoon surrealism\" - has been equally important, inspiring artists like filmmaker Tim Burton and illustrator Lane Smith. --from back cover   \n",
       "\n",
       "            authors                publisher publishedDate  \\\n",
       "0  ['Julie Strain']  Smithsonian Institution          1996   \n",
       "1    ['Philip Nel']                A&C Black    2005-01-01   \n",
       "\n",
       "                      categories  Impact  desc_length  title_length  \\\n",
       "0    ['Comics & Graphic Novels']   784.0          0.0          30.0   \n",
       "1  ['Biography & Autobiography']   825.0        581.0          24.0   \n",
       "\n",
       "                                                                                                                                                                                                                                                                                                                                                                                                                                        desc_clean  \\\n",
       "0                                                                                                                                                                                                                                                                                                                                                                                                                                                    \n",
       "1  philip nel take fascinate look key aspect seusss career poetry politics art market place popular imagination nel argue convincingly dr seuss one influential poet america nonsense verse like lewis carroll edward lear ha change language give u new word like nerd seusss famously loopy artistic style nel term energetic cartoon surrealism ha equally important inspire artist like filmmaker tim burton illustrator lane smith back cover   \n",
       "\n",
       "   ...  embed_54  embed_55  embed_56  embed_57  embed_58  embed_59  embed_60  \\\n",
       "0  ...  1.226857 -0.602184  0.217803 -0.221544  0.088089 -0.091433 -0.616670   \n",
       "1  ...  1.180201  0.212034  0.750282  0.469776  0.306260  0.352160  0.012763   \n",
       "\n",
       "   embed_61  embed_62  embed_63  \n",
       "0 -1.372396  1.300386 -1.557348  \n",
       "1 -1.362891  0.329759 -1.069694  \n",
       "\n",
       "[2 rows x 77 columns]"
      ]
     },
     "execution_count": 8,
     "metadata": {},
     "output_type": "execute_result"
    }
   ],
   "source": [
    "total_content_embeddings_df = pd.DataFrame(df['total_content_embedding'].tolist(), index=df.index)\n",
    "total_content_embeddings_df.columns = [f'embed_{i}' for i in range(64)]\n",
    "df = pd.concat([df, total_content_embeddings_df], axis=1)\n",
    "df.head(2)\n"
   ]
  },
  {
   "cell_type": "code",
   "execution_count": 10,
   "metadata": {},
   "outputs": [],
   "source": [
    "w2v_model.save(\"w2v_model.model\")"
   ]
  },
  {
   "cell_type": "markdown",
   "metadata": {},
   "source": [
    "### Data cleaning and feature engineering for Publisher\n",
    "- clean the publisher column\n",
    "- label encode the publisher column\n",
    "- we will use catboost regressor which will internally do the target encoding or neural network with embedding layer for the publisher column."
   ]
  },
  {
   "cell_type": "code",
   "execution_count": 11,
   "metadata": {},
   "outputs": [
    {
     "data": {
      "text/html": [
       "<div>\n",
       "<style scoped>\n",
       "    .dataframe tbody tr th:only-of-type {\n",
       "        vertical-align: middle;\n",
       "    }\n",
       "\n",
       "    .dataframe tbody tr th {\n",
       "        vertical-align: top;\n",
       "    }\n",
       "\n",
       "    .dataframe thead th {\n",
       "        text-align: right;\n",
       "    }\n",
       "</style>\n",
       "<table border=\"1\" class=\"dataframe\">\n",
       "  <thead>\n",
       "    <tr style=\"text-align: right;\">\n",
       "      <th></th>\n",
       "      <th>publisher</th>\n",
       "      <th>publisher_clean</th>\n",
       "    </tr>\n",
       "  </thead>\n",
       "  <tbody>\n",
       "    <tr>\n",
       "      <th>0</th>\n",
       "      <td>Smithsonian Institution</td>\n",
       "      <td>smithsonian institution</td>\n",
       "    </tr>\n",
       "    <tr>\n",
       "      <th>1</th>\n",
       "      <td>A&amp;C Black</td>\n",
       "      <td>a&amp;c black</td>\n",
       "    </tr>\n",
       "  </tbody>\n",
       "</table>\n",
       "</div>"
      ],
      "text/plain": [
       "                 publisher          publisher_clean\n",
       "0  Smithsonian Institution  smithsonian institution\n",
       "1                A&C Black                a&c black"
      ]
     },
     "execution_count": 11,
     "metadata": {},
     "output_type": "execute_result"
    }
   ],
   "source": [
    "df['publisher_clean'] = preprocess_text_feature(df['publisher'])\n",
    "df[['publisher','publisher_clean']].head(2)"
   ]
  },
  {
   "cell_type": "code",
   "execution_count": 12,
   "metadata": {},
   "outputs": [
    {
     "data": {
      "text/plain": [
       "(12714, 0)"
      ]
     },
     "execution_count": 12,
     "metadata": {},
     "output_type": "execute_result"
    }
   ],
   "source": [
    "df['publisher_clean'].nunique(), df[df.publisher_clean.isnull()].shape[0]"
   ]
  },
  {
   "cell_type": "code",
   "execution_count": 13,
   "metadata": {},
   "outputs": [
    {
     "data": {
      "text/plain": [
       "12714"
      ]
     },
     "execution_count": 13,
     "metadata": {},
     "output_type": "execute_result"
    }
   ],
   "source": [
    "publisher_encoder = LabelEncoder()\n",
    "df['publisher_encoded'] = publisher_encoder.fit_transform(df['publisher_clean'])\n",
    "df['publisher_encoded'].nunique()"
   ]
  },
  {
   "cell_type": "code",
   "execution_count": 14,
   "metadata": {},
   "outputs": [],
   "source": [
    "with open('publisher_encoder.pkl', 'wb') as file:\n",
    "    pkl.dump(publisher_encoder, file)"
   ]
  },
  {
   "cell_type": "markdown",
   "metadata": {},
   "source": [
    "### Data cleaning and feature engineering for Categories\n",
    "- label encode the categories column\n",
    "- we will use catboost regressor which will internally do the target encoding or neural network with embedding layer for the categories column."
   ]
  },
  {
   "cell_type": "code",
   "execution_count": 15,
   "metadata": {},
   "outputs": [
    {
     "data": {
      "text/plain": [
       "100"
      ]
     },
     "execution_count": 15,
     "metadata": {},
     "output_type": "execute_result"
    }
   ],
   "source": [
    "category_encoder = LabelEncoder()\n",
    "df['categories_encoded'] = category_encoder.fit_transform(df['categories'])\n",
    "df['categories_encoded'].nunique()\n"
   ]
  },
  {
   "cell_type": "code",
   "execution_count": 16,
   "metadata": {},
   "outputs": [],
   "source": [
    "with open('category_encoder.pkl', 'wb') as file:\n",
    "    pkl.dump(category_encoder, file)"
   ]
  },
  {
   "cell_type": "markdown",
   "metadata": {},
   "source": [
    "### Data cleaning and feature engineering for publishedDate\n",
    "- We will extract year and month from the publishedDate column as new features."
   ]
  },
  {
   "cell_type": "code",
   "execution_count": 17,
   "metadata": {},
   "outputs": [
    {
     "data": {
      "text/html": [
       "<div>\n",
       "<style scoped>\n",
       "    .dataframe tbody tr th:only-of-type {\n",
       "        vertical-align: middle;\n",
       "    }\n",
       "\n",
       "    .dataframe tbody tr th {\n",
       "        vertical-align: top;\n",
       "    }\n",
       "\n",
       "    .dataframe thead th {\n",
       "        text-align: right;\n",
       "    }\n",
       "</style>\n",
       "<table border=\"1\" class=\"dataframe\">\n",
       "  <thead>\n",
       "    <tr style=\"text-align: right;\">\n",
       "      <th></th>\n",
       "      <th>publishedDate</th>\n",
       "      <th>publishedDate_new</th>\n",
       "    </tr>\n",
       "  </thead>\n",
       "  <tbody>\n",
       "    <tr>\n",
       "      <th>0</th>\n",
       "      <td>1996</td>\n",
       "      <td>1996</td>\n",
       "    </tr>\n",
       "    <tr>\n",
       "      <th>1</th>\n",
       "      <td>2005-01-01</td>\n",
       "      <td>2005-01</td>\n",
       "    </tr>\n",
       "  </tbody>\n",
       "</table>\n",
       "</div>"
      ],
      "text/plain": [
       "  publishedDate publishedDate_new\n",
       "0          1996              1996\n",
       "1    2005-01-01           2005-01"
      ]
     },
     "execution_count": 17,
     "metadata": {},
     "output_type": "execute_result"
    }
   ],
   "source": [
    "df['publishedDate'] =  df['publishedDate'].fillna('')\n",
    "df['publishedDate_new'] = df['publishedDate'].str.slice(0,7)\n",
    "df[['publishedDate','publishedDate_new']].head(2)"
   ]
  },
  {
   "cell_type": "code",
   "execution_count": 18,
   "metadata": {},
   "outputs": [
    {
     "data": {
      "text/html": [
       "<div>\n",
       "<style scoped>\n",
       "    .dataframe tbody tr th:only-of-type {\n",
       "        vertical-align: middle;\n",
       "    }\n",
       "\n",
       "    .dataframe tbody tr th {\n",
       "        vertical-align: top;\n",
       "    }\n",
       "\n",
       "    .dataframe thead th {\n",
       "        text-align: right;\n",
       "    }\n",
       "</style>\n",
       "<table border=\"1\" class=\"dataframe\">\n",
       "  <thead>\n",
       "    <tr style=\"text-align: right;\">\n",
       "      <th></th>\n",
       "      <th>published_year</th>\n",
       "      <th>published_month</th>\n",
       "    </tr>\n",
       "  </thead>\n",
       "  <tbody>\n",
       "    <tr>\n",
       "      <th>count</th>\n",
       "      <td>138724</td>\n",
       "      <td>83891</td>\n",
       "    </tr>\n",
       "    <tr>\n",
       "      <th>unique</th>\n",
       "      <td>257</td>\n",
       "      <td>12</td>\n",
       "    </tr>\n",
       "    <tr>\n",
       "      <th>top</th>\n",
       "      <td>2004</td>\n",
       "      <td>01</td>\n",
       "    </tr>\n",
       "    <tr>\n",
       "      <th>freq</th>\n",
       "      <td>7196</td>\n",
       "      <td>11558</td>\n",
       "    </tr>\n",
       "  </tbody>\n",
       "</table>\n",
       "</div>"
      ],
      "text/plain": [
       "       published_year published_month\n",
       "count          138724           83891\n",
       "unique            257              12\n",
       "top              2004              01\n",
       "freq             7196           11558"
      ]
     },
     "execution_count": 18,
     "metadata": {},
     "output_type": "execute_result"
    }
   ],
   "source": [
    "date_parts = df['publishedDate'].astype(str).str.split('-', expand=True)\n",
    "for col in date_parts.columns:\n",
    "    date_parts[col] = date_parts[col].str.strip()\n",
    "df['published_year'] = date_parts[0]\n",
    "df['published_month'] = date_parts[1]\n",
    "df[['published_year','published_month']].describe()"
   ]
  },
  {
   "cell_type": "code",
   "execution_count": 19,
   "metadata": {},
   "outputs": [
    {
     "data": {
      "text/plain": [
       "published_year      1062\n",
       "published_month    54833\n",
       "dtype: int64"
      ]
     },
     "execution_count": 19,
     "metadata": {},
     "output_type": "execute_result"
    }
   ],
   "source": [
    "df['published_year'] = pd.to_numeric(df['published_year'], errors='coerce')\n",
    "df['published_month'] = pd.to_numeric(df['published_month'], errors='coerce')\n",
    "df['published_year'] = df['published_year'].apply(lambda x: x if pd.notnull(x) and 1900 <= x <= 2024 else np.nan)\n",
    "df['published_month'] = df['published_month'].apply(lambda x: x if pd.notnull(x) and 1 <= x <= 12 else np.nan)\n",
    "df[['published_year','published_month']].isna().sum()"
   ]
  },
  {
   "cell_type": "code",
   "execution_count": 20,
   "metadata": {},
   "outputs": [
    {
     "data": {
      "text/plain": [
       "published_year     0\n",
       "published_month    0\n",
       "dtype: int64"
      ]
     },
     "execution_count": 20,
     "metadata": {},
     "output_type": "execute_result"
    }
   ],
   "source": [
    "df[['published_year','published_month']] = df[['published_year','published_month']].fillna(-1) #using -1 as a default value for missing values\n",
    "df[['published_year','published_month']].isna().sum()"
   ]
  },
  {
   "cell_type": "markdown",
   "metadata": {},
   "source": [
    "### Data cleaning and feature engineering for author\n",
    "- clean the authors column and create a new column for the authors count\n",
    "- get the main author based on highest average impact\n",
    "- label encode the main author column\n"
   ]
  },
  {
   "cell_type": "code",
   "execution_count": 53,
   "metadata": {},
   "outputs": [
    {
     "data": {
      "text/plain": [
       "3843"
      ]
     },
     "execution_count": 53,
     "metadata": {},
     "output_type": "execute_result"
    }
   ],
   "source": [
    "import gc\n",
    "gc.collect()"
   ]
  },
  {
   "cell_type": "code",
   "execution_count": 54,
   "metadata": {},
   "outputs": [
    {
     "data": {
      "text/plain": [
       "0        ['Julie Strain']\n",
       "1          ['Philip Nel']\n",
       "2        ['David R. Ray']\n",
       "3     ['Veronica Haddon']\n",
       "4    ['Everett Ferguson']\n",
       "Name: authors, dtype: object"
      ]
     },
     "execution_count": 54,
     "metadata": {},
     "output_type": "execute_result"
    }
   ],
   "source": [
    "df['authors'].head()"
   ]
  },
  {
   "cell_type": "code",
   "execution_count": 20,
   "metadata": {},
   "outputs": [],
   "source": [
    "df['authors'] = df['authors'].fillna('')"
   ]
  },
  {
   "cell_type": "code",
   "execution_count": 9,
   "metadata": {},
   "outputs": [],
   "source": [
    "# clean the authors column and create a new column for the authors count\n",
    "df['authors_clean'] = df['authors'].str.strip('[]').str.replace(\"'\", \"\").str.replace('\"', '').str.strip()\n",
    "df['authors_clean'] = df['authors_clean'].replace('', np.nan)\n",
    "df['authors_list'] = df['authors_clean'].str.split(',').apply(lambda x: [i.strip() for i in x] if isinstance(x, list) else [])\n",
    "df['author_count'] = df['authors_list'].apply(len)"
   ]
  },
  {
   "cell_type": "code",
   "execution_count": 11,
   "metadata": {},
   "outputs": [
    {
     "data": {
      "text/html": [
       "<div>\n",
       "<style scoped>\n",
       "    .dataframe tbody tr th:only-of-type {\n",
       "        vertical-align: middle;\n",
       "    }\n",
       "\n",
       "    .dataframe tbody tr th {\n",
       "        vertical-align: top;\n",
       "    }\n",
       "\n",
       "    .dataframe thead th {\n",
       "        text-align: right;\n",
       "    }\n",
       "</style>\n",
       "<table border=\"1\" class=\"dataframe\">\n",
       "  <thead>\n",
       "    <tr style=\"text-align: right;\">\n",
       "      <th></th>\n",
       "      <th>authors</th>\n",
       "      <th>authors_clean</th>\n",
       "      <th>authors_list</th>\n",
       "      <th>author_count</th>\n",
       "    </tr>\n",
       "  </thead>\n",
       "  <tbody>\n",
       "    <tr>\n",
       "      <th>0</th>\n",
       "      <td>['Julie Strain']</td>\n",
       "      <td>Julie Strain</td>\n",
       "      <td>[Julie Strain]</td>\n",
       "      <td>1</td>\n",
       "    </tr>\n",
       "    <tr>\n",
       "      <th>1</th>\n",
       "      <td>['Philip Nel']</td>\n",
       "      <td>Philip Nel</td>\n",
       "      <td>[Philip Nel]</td>\n",
       "      <td>1</td>\n",
       "    </tr>\n",
       "    <tr>\n",
       "      <th>2</th>\n",
       "      <td>['David R. Ray']</td>\n",
       "      <td>David R. Ray</td>\n",
       "      <td>[David R. Ray]</td>\n",
       "      <td>1</td>\n",
       "    </tr>\n",
       "    <tr>\n",
       "      <th>3</th>\n",
       "      <td>['Veronica Haddon']</td>\n",
       "      <td>Veronica Haddon</td>\n",
       "      <td>[Veronica Haddon]</td>\n",
       "      <td>1</td>\n",
       "    </tr>\n",
       "    <tr>\n",
       "      <th>4</th>\n",
       "      <td>['Everett Ferguson']</td>\n",
       "      <td>Everett Ferguson</td>\n",
       "      <td>[Everett Ferguson]</td>\n",
       "      <td>1</td>\n",
       "    </tr>\n",
       "    <tr>\n",
       "      <th>5</th>\n",
       "      <td>['Mary Fabyan Windeatt']</td>\n",
       "      <td>Mary Fabyan Windeatt</td>\n",
       "      <td>[Mary Fabyan Windeatt]</td>\n",
       "      <td>1</td>\n",
       "    </tr>\n",
       "    <tr>\n",
       "      <th>6</th>\n",
       "      <td>['Steven Wardell']</td>\n",
       "      <td>Steven Wardell</td>\n",
       "      <td>[Steven Wardell]</td>\n",
       "      <td>1</td>\n",
       "    </tr>\n",
       "    <tr>\n",
       "      <th>7</th>\n",
       "      <td>['Camillia Fawzi El-Solh', 'Judy Mabro']</td>\n",
       "      <td>Camillia Fawzi El-Solh, Judy Mabro</td>\n",
       "      <td>[Camillia Fawzi El-Solh, Judy Mabro]</td>\n",
       "      <td>2</td>\n",
       "    </tr>\n",
       "    <tr>\n",
       "      <th>8</th>\n",
       "      <td>['Armando Salda A-Mora']</td>\n",
       "      <td>Armando Salda A-Mora</td>\n",
       "      <td>[Armando Salda A-Mora]</td>\n",
       "      <td>1</td>\n",
       "    </tr>\n",
       "    <tr>\n",
       "      <th>9</th>\n",
       "      <td>['Evelyn B. Christensen']</td>\n",
       "      <td>Evelyn B. Christensen</td>\n",
       "      <td>[Evelyn B. Christensen]</td>\n",
       "      <td>1</td>\n",
       "    </tr>\n",
       "  </tbody>\n",
       "</table>\n",
       "</div>"
      ],
      "text/plain": [
       "                                    authors  \\\n",
       "0                          ['Julie Strain']   \n",
       "1                            ['Philip Nel']   \n",
       "2                          ['David R. Ray']   \n",
       "3                       ['Veronica Haddon']   \n",
       "4                      ['Everett Ferguson']   \n",
       "5                  ['Mary Fabyan Windeatt']   \n",
       "6                        ['Steven Wardell']   \n",
       "7  ['Camillia Fawzi El-Solh', 'Judy Mabro']   \n",
       "8                  ['Armando Salda A-Mora']   \n",
       "9                 ['Evelyn B. Christensen']   \n",
       "\n",
       "                        authors_clean                          authors_list  \\\n",
       "0                        Julie Strain                        [Julie Strain]   \n",
       "1                          Philip Nel                          [Philip Nel]   \n",
       "2                        David R. Ray                        [David R. Ray]   \n",
       "3                     Veronica Haddon                     [Veronica Haddon]   \n",
       "4                    Everett Ferguson                    [Everett Ferguson]   \n",
       "5                Mary Fabyan Windeatt                [Mary Fabyan Windeatt]   \n",
       "6                      Steven Wardell                      [Steven Wardell]   \n",
       "7  Camillia Fawzi El-Solh, Judy Mabro  [Camillia Fawzi El-Solh, Judy Mabro]   \n",
       "8                Armando Salda A-Mora                [Armando Salda A-Mora]   \n",
       "9               Evelyn B. Christensen               [Evelyn B. Christensen]   \n",
       "\n",
       "   author_count  \n",
       "0             1  \n",
       "1             1  \n",
       "2             1  \n",
       "3             1  \n",
       "4             1  \n",
       "5             1  \n",
       "6             1  \n",
       "7             2  \n",
       "8             1  \n",
       "9             1  "
      ]
     },
     "execution_count": 11,
     "metadata": {},
     "output_type": "execute_result"
    }
   ],
   "source": [
    "df[['authors','authors_clean','authors_list','author_count']].head(10)"
   ]
  },
  {
   "cell_type": "code",
   "execution_count": 12,
   "metadata": {},
   "outputs": [
    {
     "data": {
      "text/html": [
       "<div>\n",
       "<style scoped>\n",
       "    .dataframe tbody tr th:only-of-type {\n",
       "        vertical-align: middle;\n",
       "    }\n",
       "\n",
       "    .dataframe tbody tr th {\n",
       "        vertical-align: top;\n",
       "    }\n",
       "\n",
       "    .dataframe thead th {\n",
       "        text-align: right;\n",
       "    }\n",
       "</style>\n",
       "<table border=\"1\" class=\"dataframe\">\n",
       "  <thead>\n",
       "    <tr style=\"text-align: right;\">\n",
       "      <th></th>\n",
       "      <th>authors_list</th>\n",
       "      <th>Impact</th>\n",
       "    </tr>\n",
       "  </thead>\n",
       "  <tbody>\n",
       "    <tr>\n",
       "      <th>0</th>\n",
       "      <td>Julie Strain</td>\n",
       "      <td>784.0</td>\n",
       "    </tr>\n",
       "    <tr>\n",
       "      <th>1</th>\n",
       "      <td>Philip Nel</td>\n",
       "      <td>825.0</td>\n",
       "    </tr>\n",
       "    <tr>\n",
       "      <th>2</th>\n",
       "      <td>David R. Ray</td>\n",
       "      <td>842.0</td>\n",
       "    </tr>\n",
       "    <tr>\n",
       "      <th>3</th>\n",
       "      <td>Veronica Haddon</td>\n",
       "      <td>666.0</td>\n",
       "    </tr>\n",
       "    <tr>\n",
       "      <th>4</th>\n",
       "      <td>Everett Ferguson</td>\n",
       "      <td>806.0</td>\n",
       "    </tr>\n",
       "    <tr>\n",
       "      <th>5</th>\n",
       "      <td>Mary Fabyan Windeatt</td>\n",
       "      <td>799.0</td>\n",
       "    </tr>\n",
       "    <tr>\n",
       "      <th>6</th>\n",
       "      <td>Steven Wardell</td>\n",
       "      <td>794.0</td>\n",
       "    </tr>\n",
       "    <tr>\n",
       "      <th>7</th>\n",
       "      <td>Camillia Fawzi El-Solh</td>\n",
       "      <td>759.0</td>\n",
       "    </tr>\n",
       "    <tr>\n",
       "      <th>7</th>\n",
       "      <td>Judy Mabro</td>\n",
       "      <td>759.0</td>\n",
       "    </tr>\n",
       "    <tr>\n",
       "      <th>8</th>\n",
       "      <td>Armando Salda A-Mora</td>\n",
       "      <td>847.0</td>\n",
       "    </tr>\n",
       "  </tbody>\n",
       "</table>\n",
       "</div>"
      ],
      "text/plain": [
       "             authors_list  Impact\n",
       "0            Julie Strain   784.0\n",
       "1              Philip Nel   825.0\n",
       "2            David R. Ray   842.0\n",
       "3         Veronica Haddon   666.0\n",
       "4        Everett Ferguson   806.0\n",
       "5    Mary Fabyan Windeatt   799.0\n",
       "6          Steven Wardell   794.0\n",
       "7  Camillia Fawzi El-Solh   759.0\n",
       "7              Judy Mabro   759.0\n",
       "8    Armando Salda A-Mora   847.0"
      ]
     },
     "execution_count": 12,
     "metadata": {},
     "output_type": "execute_result"
    }
   ],
   "source": [
    "authors_exploded = df[['authors_list', 'Impact']].explode('authors_list')\n",
    "authors_exploded.head(10)"
   ]
  },
  {
   "cell_type": "code",
   "execution_count": null,
   "metadata": {},
   "outputs": [],
   "source": [
    "\n",
    "author_impact = authors_exploded.groupby('authors_list').agg({\n",
    "    'Impact': ['mean', 'count']\n",
    "}).reset_index()\n",
    "author_impact.columns = ['author', 'average_impact', 'frequency']\n",
    "author_impact.head()"
   ]
  },
  {
   "cell_type": "code",
   "execution_count": 14,
   "metadata": {},
   "outputs": [],
   "source": [
    "df_exploded = df.explode('authors_list')\n",
    "df_exploded = df_exploded.merge(author_impact, left_on='authors_list', right_on='author', how='left')"
   ]
  },
  {
   "cell_type": "code",
   "execution_count": 15,
   "metadata": {},
   "outputs": [
    {
     "data": {
      "text/html": [
       "<div>\n",
       "<style scoped>\n",
       "    .dataframe tbody tr th:only-of-type {\n",
       "        vertical-align: middle;\n",
       "    }\n",
       "\n",
       "    .dataframe tbody tr th {\n",
       "        vertical-align: top;\n",
       "    }\n",
       "\n",
       "    .dataframe thead th {\n",
       "        text-align: right;\n",
       "    }\n",
       "</style>\n",
       "<table border=\"1\" class=\"dataframe\">\n",
       "  <thead>\n",
       "    <tr style=\"text-align: right;\">\n",
       "      <th></th>\n",
       "      <th>authors_list</th>\n",
       "      <th>average_impact</th>\n",
       "    </tr>\n",
       "    <tr>\n",
       "      <th>Title</th>\n",
       "      <th></th>\n",
       "      <th></th>\n",
       "    </tr>\n",
       "  </thead>\n",
       "  <tbody>\n",
       "    <tr>\n",
       "      <th>\" Film technique, \" and, \" Film acting \"</th>\n",
       "      <td>[V. I. Pudovkin]</td>\n",
       "      <td>[799.0]</td>\n",
       "    </tr>\n",
       "    <tr>\n",
       "      <th>\" We'll Always Have Paris\": The Definitive Guide to Great Lines from the Movies</th>\n",
       "      <td>[Robert A. Nowlan, Gwendolyn Wright Nowlan]</td>\n",
       "      <td>[819.0, 819.0]</td>\n",
       "    </tr>\n",
       "    <tr>\n",
       "      <th>\"A Truthful Impression of the Country\": British and American Travel Writing in China, 1880-1949</th>\n",
       "      <td>[Nicholas J. Clifford, Nicholas Rowland Clifford, Nick Clifford]</td>\n",
       "      <td>[784.0, 784.0, 784.0]</td>\n",
       "    </tr>\n",
       "    <tr>\n",
       "      <th>\"A\" IS FOR ALIBI</th>\n",
       "      <td>[Sue Grafton]</td>\n",
       "      <td>[669.5]</td>\n",
       "    </tr>\n",
       "    <tr>\n",
       "      <th>\"Ace\" Any Test</th>\n",
       "      <td>[Ron Fry]</td>\n",
       "      <td>[705.6666666666666]</td>\n",
       "    </tr>\n",
       "  </tbody>\n",
       "</table>\n",
       "</div>"
      ],
      "text/plain": [
       "                                                                                                                                                     authors_list  \\\n",
       "Title                                                                                                                                                               \n",
       "\" Film technique, \" and, \" Film acting \"                                                                                                         [V. I. Pudovkin]   \n",
       "\" We'll Always Have Paris\": The Definitive Guide to Great Lines from the Movies                                       [Robert A. Nowlan, Gwendolyn Wright Nowlan]   \n",
       "\"A Truthful Impression of the Country\": British and American Travel Writing in China, 1880-1949  [Nicholas J. Clifford, Nicholas Rowland Clifford, Nick Clifford]   \n",
       "\"A\" IS FOR ALIBI                                                                                                                                    [Sue Grafton]   \n",
       "\"Ace\" Any Test                                                                                                                                          [Ron Fry]   \n",
       "\n",
       "                                                                                                        average_impact  \n",
       "Title                                                                                                                   \n",
       "\" Film technique, \" and, \" Film acting \"                                                                       [799.0]  \n",
       "\" We'll Always Have Paris\": The Definitive Guide to Great Lines from the Movies                         [819.0, 819.0]  \n",
       "\"A Truthful Impression of the Country\": British and American Travel Writing in China, 1880-1949  [784.0, 784.0, 784.0]  \n",
       "\"A\" IS FOR ALIBI                                                                                               [669.5]  \n",
       "\"Ace\" Any Test                                                                                     [705.6666666666666]  "
      ]
     },
     "execution_count": 15,
     "metadata": {},
     "output_type": "execute_result"
    }
   ],
   "source": [
    "df_grouped = df_exploded.groupby('Title').agg({\n",
    "    'authors_list': lambda x: list(x),\n",
    "    'average_impact': lambda x: list(x)\n",
    "})\n",
    "df_grouped.head()"
   ]
  },
  {
   "cell_type": "code",
   "execution_count": 16,
   "metadata": {},
   "outputs": [
    {
     "data": {
      "text/html": [
       "<div>\n",
       "<style scoped>\n",
       "    .dataframe tbody tr th:only-of-type {\n",
       "        vertical-align: middle;\n",
       "    }\n",
       "\n",
       "    .dataframe tbody tr th {\n",
       "        vertical-align: top;\n",
       "    }\n",
       "\n",
       "    .dataframe thead th {\n",
       "        text-align: right;\n",
       "    }\n",
       "</style>\n",
       "<table border=\"1\" class=\"dataframe\">\n",
       "  <thead>\n",
       "    <tr style=\"text-align: right;\">\n",
       "      <th></th>\n",
       "      <th>authors_list</th>\n",
       "      <th>average_impact</th>\n",
       "      <th>main_author</th>\n",
       "    </tr>\n",
       "    <tr>\n",
       "      <th>Title</th>\n",
       "      <th></th>\n",
       "      <th></th>\n",
       "      <th></th>\n",
       "    </tr>\n",
       "  </thead>\n",
       "  <tbody>\n",
       "    <tr>\n",
       "      <th>\" Film technique, \" and, \" Film acting \"</th>\n",
       "      <td>[V. I. Pudovkin]</td>\n",
       "      <td>[799.0]</td>\n",
       "      <td>V. I. Pudovkin</td>\n",
       "    </tr>\n",
       "    <tr>\n",
       "      <th>\" We'll Always Have Paris\": The Definitive Guide to Great Lines from the Movies</th>\n",
       "      <td>[Robert A. Nowlan, Gwendolyn Wright Nowlan]</td>\n",
       "      <td>[819.0, 819.0]</td>\n",
       "      <td>Robert A. Nowlan</td>\n",
       "    </tr>\n",
       "    <tr>\n",
       "      <th>\"A Truthful Impression of the Country\": British and American Travel Writing in China, 1880-1949</th>\n",
       "      <td>[Nicholas J. Clifford, Nicholas Rowland Clifford, Nick Clifford]</td>\n",
       "      <td>[784.0, 784.0, 784.0]</td>\n",
       "      <td>Nicholas J. Clifford</td>\n",
       "    </tr>\n",
       "    <tr>\n",
       "      <th>\"A\" IS FOR ALIBI</th>\n",
       "      <td>[Sue Grafton]</td>\n",
       "      <td>[669.5]</td>\n",
       "      <td>Sue Grafton</td>\n",
       "    </tr>\n",
       "    <tr>\n",
       "      <th>\"Ace\" Any Test</th>\n",
       "      <td>[Ron Fry]</td>\n",
       "      <td>[705.6666666666666]</td>\n",
       "      <td>Ron Fry</td>\n",
       "    </tr>\n",
       "  </tbody>\n",
       "</table>\n",
       "</div>"
      ],
      "text/plain": [
       "                                                                                                                                                     authors_list  \\\n",
       "Title                                                                                                                                                               \n",
       "\" Film technique, \" and, \" Film acting \"                                                                                                         [V. I. Pudovkin]   \n",
       "\" We'll Always Have Paris\": The Definitive Guide to Great Lines from the Movies                                       [Robert A. Nowlan, Gwendolyn Wright Nowlan]   \n",
       "\"A Truthful Impression of the Country\": British and American Travel Writing in China, 1880-1949  [Nicholas J. Clifford, Nicholas Rowland Clifford, Nick Clifford]   \n",
       "\"A\" IS FOR ALIBI                                                                                                                                    [Sue Grafton]   \n",
       "\"Ace\" Any Test                                                                                                                                          [Ron Fry]   \n",
       "\n",
       "                                                                                                        average_impact  \\\n",
       "Title                                                                                                                    \n",
       "\" Film technique, \" and, \" Film acting \"                                                                       [799.0]   \n",
       "\" We'll Always Have Paris\": The Definitive Guide to Great Lines from the Movies                         [819.0, 819.0]   \n",
       "\"A Truthful Impression of the Country\": British and American Travel Writing in China, 1880-1949  [784.0, 784.0, 784.0]   \n",
       "\"A\" IS FOR ALIBI                                                                                               [669.5]   \n",
       "\"Ace\" Any Test                                                                                     [705.6666666666666]   \n",
       "\n",
       "                                                                                                          main_author  \n",
       "Title                                                                                                                  \n",
       "\" Film technique, \" and, \" Film acting \"                                                               V. I. Pudovkin  \n",
       "\" We'll Always Have Paris\": The Definitive Guide to Great Lines from the Movies                      Robert A. Nowlan  \n",
       "\"A Truthful Impression of the Country\": British and American Travel Writing in China, 1880-1949  Nicholas J. Clifford  \n",
       "\"A\" IS FOR ALIBI                                                                                          Sue Grafton  \n",
       "\"Ace\" Any Test                                                                                                Ron Fry  "
      ]
     },
     "execution_count": 16,
     "metadata": {},
     "output_type": "execute_result"
    }
   ],
   "source": [
    "# getting the main author based on highest averageimpact\n",
    "df_grouped['main_author'] = df_grouped.apply(lambda row: get_main_author(row['authors_list'], row['average_impact']), axis=1)\n",
    "df_grouped.head()"
   ]
  },
  {
   "cell_type": "code",
   "execution_count": 17,
   "metadata": {},
   "outputs": [
    {
     "data": {
      "text/html": [
       "<div>\n",
       "<style scoped>\n",
       "    .dataframe tbody tr th:only-of-type {\n",
       "        vertical-align: middle;\n",
       "    }\n",
       "\n",
       "    .dataframe tbody tr th {\n",
       "        vertical-align: top;\n",
       "    }\n",
       "\n",
       "    .dataframe thead th {\n",
       "        text-align: right;\n",
       "    }\n",
       "</style>\n",
       "<table border=\"1\" class=\"dataframe\">\n",
       "  <thead>\n",
       "    <tr style=\"text-align: right;\">\n",
       "      <th></th>\n",
       "      <th>Title</th>\n",
       "      <th>main_author</th>\n",
       "    </tr>\n",
       "  </thead>\n",
       "  <tbody>\n",
       "    <tr>\n",
       "      <th>0</th>\n",
       "      <td>\" Film technique, \" and, \" Film acting \"</td>\n",
       "      <td>V. I. Pudovkin</td>\n",
       "    </tr>\n",
       "    <tr>\n",
       "      <th>1</th>\n",
       "      <td>\" We'll Always Have Paris\": The Definitive Guide to Great Lines from the Movies</td>\n",
       "      <td>Robert A. Nowlan</td>\n",
       "    </tr>\n",
       "    <tr>\n",
       "      <th>2</th>\n",
       "      <td>\"A Truthful Impression of the Country\": British and American Travel Writing in China, 1880-1949</td>\n",
       "      <td>Nicholas J. Clifford</td>\n",
       "    </tr>\n",
       "    <tr>\n",
       "      <th>3</th>\n",
       "      <td>\"A\" IS FOR ALIBI</td>\n",
       "      <td>Sue Grafton</td>\n",
       "    </tr>\n",
       "    <tr>\n",
       "      <th>4</th>\n",
       "      <td>\"Ace\" Any Test</td>\n",
       "      <td>Ron Fry</td>\n",
       "    </tr>\n",
       "  </tbody>\n",
       "</table>\n",
       "</div>"
      ],
      "text/plain": [
       "                                                                                             Title  \\\n",
       "0                                                         \" Film technique, \" and, \" Film acting \"   \n",
       "1                  \" We'll Always Have Paris\": The Definitive Guide to Great Lines from the Movies   \n",
       "2  \"A Truthful Impression of the Country\": British and American Travel Writing in China, 1880-1949   \n",
       "3                                                                                 \"A\" IS FOR ALIBI   \n",
       "4                                                                                   \"Ace\" Any Test   \n",
       "\n",
       "            main_author  \n",
       "0        V. I. Pudovkin  \n",
       "1      Robert A. Nowlan  \n",
       "2  Nicholas J. Clifford  \n",
       "3           Sue Grafton  \n",
       "4               Ron Fry  "
      ]
     },
     "execution_count": 17,
     "metadata": {},
     "output_type": "execute_result"
    }
   ],
   "source": [
    "df_grouped = df_grouped.reset_index()\n",
    "df_grouped[['Title','main_author']].head()"
   ]
  },
  {
   "cell_type": "code",
   "execution_count": 22,
   "metadata": {},
   "outputs": [
    {
     "data": {
      "text/html": [
       "<div>\n",
       "<style scoped>\n",
       "    .dataframe tbody tr th:only-of-type {\n",
       "        vertical-align: middle;\n",
       "    }\n",
       "\n",
       "    .dataframe tbody tr th {\n",
       "        vertical-align: top;\n",
       "    }\n",
       "\n",
       "    .dataframe thead th {\n",
       "        text-align: right;\n",
       "    }\n",
       "</style>\n",
       "<table border=\"1\" class=\"dataframe\">\n",
       "  <thead>\n",
       "    <tr style=\"text-align: right;\">\n",
       "      <th></th>\n",
       "      <th>Title</th>\n",
       "      <th>main_author</th>\n",
       "    </tr>\n",
       "  </thead>\n",
       "  <tbody>\n",
       "    <tr>\n",
       "      <th>0</th>\n",
       "      <td>Its Only Art If Its Well Hung!</td>\n",
       "      <td>Julie Strain</td>\n",
       "    </tr>\n",
       "    <tr>\n",
       "      <th>1</th>\n",
       "      <td>Dr. Seuss: American Icon</td>\n",
       "      <td>Philip Nel</td>\n",
       "    </tr>\n",
       "    <tr>\n",
       "      <th>2</th>\n",
       "      <td>Wonderful Worship in Smaller Churches</td>\n",
       "      <td>David R. Ray</td>\n",
       "    </tr>\n",
       "    <tr>\n",
       "      <th>3</th>\n",
       "      <td>Whispers of the Wicked Saints</td>\n",
       "      <td>Veronica Haddon</td>\n",
       "    </tr>\n",
       "    <tr>\n",
       "      <th>4</th>\n",
       "      <td>The Church of Christ: A Biblical Ecclesiology for Today</td>\n",
       "      <td>Everett Ferguson</td>\n",
       "    </tr>\n",
       "  </tbody>\n",
       "</table>\n",
       "</div>"
      ],
      "text/plain": [
       "                                                     Title       main_author\n",
       "0                           Its Only Art If Its Well Hung!      Julie Strain\n",
       "1                                 Dr. Seuss: American Icon        Philip Nel\n",
       "2                    Wonderful Worship in Smaller Churches      David R. Ray\n",
       "3                            Whispers of the Wicked Saints   Veronica Haddon\n",
       "4  The Church of Christ: A Biblical Ecclesiology for Today  Everett Ferguson"
      ]
     },
     "execution_count": 22,
     "metadata": {},
     "output_type": "execute_result"
    }
   ],
   "source": [
    "# get the main author for each book based on highest average impact\n",
    "df = df.merge(df_grouped[['Title', 'main_author']], on='Title', how='left')\n",
    "df[['Title','main_author']].head()"
   ]
  },
  {
   "cell_type": "code",
   "execution_count": 24,
   "metadata": {},
   "outputs": [
    {
     "data": {
      "text/plain": [
       "92471"
      ]
     },
     "execution_count": 24,
     "metadata": {},
     "output_type": "execute_result"
    }
   ],
   "source": [
    "\n",
    "df['main_author'] = df['main_author'].fillna('other')\n",
    "df['main_author'].nunique()"
   ]
  },
  {
   "cell_type": "code",
   "execution_count": 25,
   "metadata": {},
   "outputs": [
    {
     "data": {
      "text/plain": [
       "92471"
      ]
     },
     "execution_count": 25,
     "metadata": {},
     "output_type": "execute_result"
    }
   ],
   "source": [
    "#main author has very high cardinality and most of the authors have only one book. \n",
    "# so it can be dropped as my test data will always have inseen authors.\n",
    "author_encoder = LabelEncoder()\n",
    "df['main_author_encoded'] = author_encoder.fit_transform(df['main_author'])\n",
    "df['main_author_encoded'].nunique()\n",
    "\n"
   ]
  },
  {
   "cell_type": "code",
   "execution_count": 76,
   "metadata": {},
   "outputs": [],
   "source": [
    "with open('author_encoder.pkl', 'wb') as file:\n",
    "    pkl.dump(author_encoder, file)"
   ]
  },
  {
   "cell_type": "code",
   "execution_count": 77,
   "metadata": {},
   "outputs": [
    {
     "name": "stdout",
     "output_type": "stream",
     "text": [
      "<class 'pandas.core.frame.DataFrame'>\n",
      "Int64Index: 138724 entries, 0 to 138723\n",
      "Data columns (total 88 columns):\n",
      " #   Column                   Non-Null Count   Dtype  \n",
      "---  ------                   --------------   -----  \n",
      " 0   Title                    138724 non-null  object \n",
      " 1   description              138724 non-null  object \n",
      " 2   authors                  138724 non-null  object \n",
      " 3   publisher                138724 non-null  object \n",
      " 4   publishedDate            138724 non-null  object \n",
      " 5   categories               138724 non-null  object \n",
      " 6   Impact                   138724 non-null  float64\n",
      " 7   desc_length              138724 non-null  float64\n",
      " 8   title_length             138724 non-null  float64\n",
      " 9   desc_clean               138724 non-null  object \n",
      " 10  title_clean              138724 non-null  object \n",
      " 11  total_content            138724 non-null  object \n",
      " 12  total_content_embedding  138724 non-null  object \n",
      " 13  embed_0                  138724 non-null  float64\n",
      " 14  embed_1                  138724 non-null  float64\n",
      " 15  embed_2                  138724 non-null  float64\n",
      " 16  embed_3                  138724 non-null  float64\n",
      " 17  embed_4                  138724 non-null  float64\n",
      " 18  embed_5                  138724 non-null  float64\n",
      " 19  embed_6                  138724 non-null  float64\n",
      " 20  embed_7                  138724 non-null  float64\n",
      " 21  embed_8                  138724 non-null  float64\n",
      " 22  embed_9                  138724 non-null  float64\n",
      " 23  embed_10                 138724 non-null  float64\n",
      " 24  embed_11                 138724 non-null  float64\n",
      " 25  embed_12                 138724 non-null  float64\n",
      " 26  embed_13                 138724 non-null  float64\n",
      " 27  embed_14                 138724 non-null  float64\n",
      " 28  embed_15                 138724 non-null  float64\n",
      " 29  embed_16                 138724 non-null  float64\n",
      " 30  embed_17                 138724 non-null  float64\n",
      " 31  embed_18                 138724 non-null  float64\n",
      " 32  embed_19                 138724 non-null  float64\n",
      " 33  embed_20                 138724 non-null  float64\n",
      " 34  embed_21                 138724 non-null  float64\n",
      " 35  embed_22                 138724 non-null  float64\n",
      " 36  embed_23                 138724 non-null  float64\n",
      " 37  embed_24                 138724 non-null  float64\n",
      " 38  embed_25                 138724 non-null  float64\n",
      " 39  embed_26                 138724 non-null  float64\n",
      " 40  embed_27                 138724 non-null  float64\n",
      " 41  embed_28                 138724 non-null  float64\n",
      " 42  embed_29                 138724 non-null  float64\n",
      " 43  embed_30                 138724 non-null  float64\n",
      " 44  embed_31                 138724 non-null  float64\n",
      " 45  embed_32                 138724 non-null  float64\n",
      " 46  embed_33                 138724 non-null  float64\n",
      " 47  embed_34                 138724 non-null  float64\n",
      " 48  embed_35                 138724 non-null  float64\n",
      " 49  embed_36                 138724 non-null  float64\n",
      " 50  embed_37                 138724 non-null  float64\n",
      " 51  embed_38                 138724 non-null  float64\n",
      " 52  embed_39                 138724 non-null  float64\n",
      " 53  embed_40                 138724 non-null  float64\n",
      " 54  embed_41                 138724 non-null  float64\n",
      " 55  embed_42                 138724 non-null  float64\n",
      " 56  embed_43                 138724 non-null  float64\n",
      " 57  embed_44                 138724 non-null  float64\n",
      " 58  embed_45                 138724 non-null  float64\n",
      " 59  embed_46                 138724 non-null  float64\n",
      " 60  embed_47                 138724 non-null  float64\n",
      " 61  embed_48                 138724 non-null  float64\n",
      " 62  embed_49                 138724 non-null  float64\n",
      " 63  embed_50                 138724 non-null  float64\n",
      " 64  embed_51                 138724 non-null  float64\n",
      " 65  embed_52                 138724 non-null  float64\n",
      " 66  embed_53                 138724 non-null  float64\n",
      " 67  embed_54                 138724 non-null  float64\n",
      " 68  embed_55                 138724 non-null  float64\n",
      " 69  embed_56                 138724 non-null  float64\n",
      " 70  embed_57                 138724 non-null  float64\n",
      " 71  embed_58                 138724 non-null  float64\n",
      " 72  embed_59                 138724 non-null  float64\n",
      " 73  embed_60                 138724 non-null  float64\n",
      " 74  embed_61                 138724 non-null  float64\n",
      " 75  embed_62                 138724 non-null  float64\n",
      " 76  embed_63                 138724 non-null  float64\n",
      " 77  publisher_clean          138724 non-null  object \n",
      " 78  publisher_encoded        138724 non-null  int64  \n",
      " 79  categories_encoded       138724 non-null  int64  \n",
      " 80  publishedDate_new        138724 non-null  object \n",
      " 81  published_year           138724 non-null  float64\n",
      " 82  published_month          138724 non-null  float64\n",
      " 83  authors_clean            136001 non-null  object \n",
      " 84  authors_list             138724 non-null  object \n",
      " 85  author_count             138724 non-null  int64  \n",
      " 86  main_author              138724 non-null  object \n",
      " 87  main_author_encoded      138724 non-null  int64  \n",
      "dtypes: float64(69), int64(4), object(15)\n",
      "memory usage: 94.2+ MB\n"
     ]
    }
   ],
   "source": [
    "df.info()"
   ]
  },
  {
   "cell_type": "code",
   "execution_count": 78,
   "metadata": {},
   "outputs": [
    {
     "data": {
      "text/plain": [
       "Index(['Title', 'description', 'authors', 'publisher', 'publishedDate',\n",
       "       'categories', 'Impact', 'desc_length', 'title_length', 'desc_clean',\n",
       "       'title_clean', 'total_content', 'total_content_embedding', 'embed_0',\n",
       "       'embed_1', 'embed_2', 'embed_3', 'embed_4', 'embed_5', 'embed_6',\n",
       "       'embed_7', 'embed_8', 'embed_9', 'embed_10', 'embed_11', 'embed_12',\n",
       "       'embed_13', 'embed_14', 'embed_15', 'embed_16', 'embed_17', 'embed_18',\n",
       "       'embed_19', 'embed_20', 'embed_21', 'embed_22', 'embed_23', 'embed_24',\n",
       "       'embed_25', 'embed_26', 'embed_27', 'embed_28', 'embed_29', 'embed_30',\n",
       "       'embed_31', 'embed_32', 'embed_33', 'embed_34', 'embed_35', 'embed_36',\n",
       "       'embed_37', 'embed_38', 'embed_39', 'embed_40', 'embed_41', 'embed_42',\n",
       "       'embed_43', 'embed_44', 'embed_45', 'embed_46', 'embed_47', 'embed_48',\n",
       "       'embed_49', 'embed_50', 'embed_51', 'embed_52', 'embed_53', 'embed_54',\n",
       "       'embed_55', 'embed_56', 'embed_57', 'embed_58', 'embed_59', 'embed_60',\n",
       "       'embed_61', 'embed_62', 'embed_63', 'publisher_clean',\n",
       "       'publisher_encoded', 'categories_encoded', 'publishedDate_new',\n",
       "       'published_year', 'published_month', 'authors_clean', 'authors_list',\n",
       "       'author_count', 'main_author', 'main_author_encoded'],\n",
       "      dtype='object')"
      ]
     },
     "execution_count": 78,
     "metadata": {},
     "output_type": "execute_result"
    }
   ],
   "source": [
    "df.columns"
   ]
  },
  {
   "cell_type": "code",
   "execution_count": 79,
   "metadata": {},
   "outputs": [],
   "source": [
    "columns = [ 'Impact', 'desc_length', 'title_length','embed_0',\n",
    "       'embed_1', 'embed_2', 'embed_3', 'embed_4', 'embed_5', 'embed_6',\n",
    "       'embed_7', 'embed_8', 'embed_9', 'embed_10', 'embed_11', 'embed_12',\n",
    "       'embed_13', 'embed_14', 'embed_15', 'embed_16', 'embed_17', 'embed_18',\n",
    "       'embed_19', 'embed_20', 'embed_21', 'embed_22', 'embed_23', 'embed_24',\n",
    "       'embed_25', 'embed_26', 'embed_27', 'embed_28', 'embed_29', 'embed_30',\n",
    "       'embed_31', 'embed_32', 'embed_33', 'embed_34', 'embed_35', 'embed_36',\n",
    "       'embed_37', 'embed_38', 'embed_39', 'embed_40', 'embed_41', 'embed_42',\n",
    "       'embed_43', 'embed_44', 'embed_45', 'embed_46', 'embed_47', 'embed_48',\n",
    "       'embed_49', 'embed_50', 'embed_51', 'embed_52', 'embed_53', 'embed_54',\n",
    "       'embed_55', 'embed_56', 'embed_57', 'embed_58', 'embed_59', 'embed_60',\n",
    "       'embed_61', 'embed_62', 'embed_63', \n",
    "       'publisher_encoded', 'categories_encoded', \n",
    "       'published_year', 'published_month', \n",
    "       'author_count', 'main_author_encoded']"
   ]
  },
  {
   "cell_type": "code",
   "execution_count": 80,
   "metadata": {},
   "outputs": [
    {
     "data": {
      "text/plain": [
       "Impact                 0\n",
       "desc_length            0\n",
       "title_length           0\n",
       "embed_0                0\n",
       "embed_1                0\n",
       "embed_2                0\n",
       "embed_3                0\n",
       "embed_4                0\n",
       "embed_5                0\n",
       "embed_6                0\n",
       "embed_7                0\n",
       "embed_8                0\n",
       "embed_9                0\n",
       "embed_10               0\n",
       "embed_11               0\n",
       "embed_12               0\n",
       "embed_13               0\n",
       "embed_14               0\n",
       "embed_15               0\n",
       "embed_16               0\n",
       "embed_17               0\n",
       "embed_18               0\n",
       "embed_19               0\n",
       "embed_20               0\n",
       "embed_21               0\n",
       "embed_22               0\n",
       "embed_23               0\n",
       "embed_24               0\n",
       "embed_25               0\n",
       "embed_26               0\n",
       "embed_27               0\n",
       "embed_28               0\n",
       "embed_29               0\n",
       "embed_30               0\n",
       "embed_31               0\n",
       "embed_32               0\n",
       "embed_33               0\n",
       "embed_34               0\n",
       "embed_35               0\n",
       "embed_36               0\n",
       "embed_37               0\n",
       "embed_38               0\n",
       "embed_39               0\n",
       "embed_40               0\n",
       "embed_41               0\n",
       "embed_42               0\n",
       "embed_43               0\n",
       "embed_44               0\n",
       "embed_45               0\n",
       "embed_46               0\n",
       "embed_47               0\n",
       "embed_48               0\n",
       "embed_49               0\n",
       "embed_50               0\n",
       "embed_51               0\n",
       "embed_52               0\n",
       "embed_53               0\n",
       "embed_54               0\n",
       "embed_55               0\n",
       "embed_56               0\n",
       "embed_57               0\n",
       "embed_58               0\n",
       "embed_59               0\n",
       "embed_60               0\n",
       "embed_61               0\n",
       "embed_62               0\n",
       "embed_63               0\n",
       "publisher_encoded      0\n",
       "categories_encoded     0\n",
       "published_year         0\n",
       "published_month        0\n",
       "author_count           0\n",
       "main_author_encoded    0\n",
       "dtype: int64"
      ]
     },
     "execution_count": 80,
     "metadata": {},
     "output_type": "execute_result"
    }
   ],
   "source": [
    "df[columns].isna().sum()"
   ]
  },
  {
   "cell_type": "code",
   "execution_count": 81,
   "metadata": {},
   "outputs": [],
   "source": [
    "df[columns].to_parquet('data_preprocessed.parquet')"
   ]
  },
  {
   "cell_type": "markdown",
   "metadata": {},
   "source": [
    "#### checking feature importance"
   ]
  },
  {
   "cell_type": "code",
   "execution_count": 8,
   "metadata": {},
   "outputs": [],
   "source": [
    "data = pd.read_parquet('data_preprocessed.parquet')#.drop('main_author_encoded', axis=1)\n",
    "data = data[data.Impact != 0]\n",
    "X = data.drop('Impact', axis=1)\n",
    "y = data['Impact']\n",
    "\n",
    "cat_features = ['publisher_encoded','categories_encoded']"
   ]
  },
  {
   "cell_type": "code",
   "execution_count": 9,
   "metadata": {},
   "outputs": [
    {
     "data": {
      "text/plain": [
       "(138723, 72)"
      ]
     },
     "execution_count": 9,
     "metadata": {},
     "output_type": "execute_result"
    }
   ],
   "source": [
    "X.shape"
   ]
  },
  {
   "cell_type": "code",
   "execution_count": 10,
   "metadata": {},
   "outputs": [
    {
     "data": {
      "image/png": "[encoded data removed]",
      "text/plain": [
       "<Figure size 2000x1600 with 1 Axes>"
      ]
     },
     "metadata": {},
     "output_type": "display_data"
    }
   ],
   "source": [
    "train_data = Pool(X, y, cat_features=cat_features)\n",
    "\n",
    "\n",
    "model = CatBoostRegressor(iterations=1000, random_state=42)\n",
    "model.fit(train_data,early_stopping_rounds=50,verbose=False)\n",
    "\n",
    "feature_importance = model.get_feature_importance()\n",
    "feature_names = X.columns\n",
    "importance_df = pd.DataFrame({\n",
    "    'Feature': feature_names,\n",
    "    'Importance': feature_importance\n",
    "})\n",
    "\n",
    "importance_df = importance_df.sort_values(by='Importance', ascending=False)\n",
    "\n",
    "plt.figure(figsize=(20, 16))\n",
    "plt.barh(importance_df['Feature'], importance_df['Importance'], color='skyblue')\n",
    "plt.xlabel('Feature Importance')\n",
    "plt.ylabel('Features')\n",
    "plt.title('CatBoost Feature Importance')\n",
    "plt.gca().invert_yaxis()  \n",
    "plt.show()\n"
   ]
  },
  {
   "cell_type": "code",
   "execution_count": null,
   "metadata": {},
   "outputs": [],
   "source": []
  }
 ],
 "metadata": {
  "kernelspec": {
   "display_name": "belvilla",
   "language": "python",
   "name": "python3"
  },
  "language_info": {
   "codemirror_mode": {
    "name": "ipython",
    "version": 3
   },
   "file_extension": ".py",
   "mimetype": "text/x-python",
   "name": "python",
   "nbconvert_exporter": "python",
   "pygments_lexer": "ipython3",
   "version": "3.9.16"
  }
 },
 "nbformat": 4,
 "nbformat_minor": 2
}
